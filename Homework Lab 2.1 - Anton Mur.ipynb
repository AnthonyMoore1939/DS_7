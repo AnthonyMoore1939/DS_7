{
 "cells": [
  {
   "cell_type": "markdown",
   "metadata": {},
   "source": [
    "___\n",
    "\n",
    "<a href='https://mainacademy.ua/'> <img src='https://mainacademy.ua/wp-content/uploads/2019/03/logo-main.png' alt = 'Хмм, щось з інтернетом'/></a>\n",
    "___\n",
    "\n",
    "# Module 2: Basic Python"
   ]
  },
  {
   "cell_type": "markdown",
   "metadata": {},
   "source": [
    "## Lab work 2.1\n",
    "\n"
   ]
  },
  {
   "cell_type": "markdown",
   "metadata": {},
   "source": [
    "#### Мета: \n",
    "\n",
    "* навчитися працювати із основними типами та структурами даних в Python;\n",
    "* ознайомитися із базовими алгоритмами;"
   ]
  },
  {
   "cell_type": "markdown",
   "metadata": {},
   "source": [
    "#### Завдання 1"
   ]
  },
  {
   "cell_type": "markdown",
   "metadata": {},
   "source": [
    "Обчислити площу трикутника, коли відома сторона та проведена висота до неї"
   ]
  },
  {
   "cell_type": "code",
   "execution_count": null,
   "metadata": {},
   "outputs": [],
   "source": [
    "a = int(input(\"Введіть довину сторони трикутника, до якої проведено висоту, см: \"))\n",
    "h = int(input(\"Введіть довжину висоти трикутника, см: \"))\n",
    "\n",
    "# Структуру IF можна реалізувати різними способами. \n",
    "# Якщо треба щоб попередження про від'ємну довжину виводилося після введення першого ж значення ...\n",
    "# ...треба просто перевірятт кожу умову по черзі (додати ще одну структуру IF в середині першої).\n",
    "\n",
    "if a > 0 and h > 0:\n",
    "    s = (a/2)*h\n",
    "    print(f'Площа трикутника = {s} см кв.')\n",
    "\n",
    "else:\n",
    "    print(\"Довжина не може бути від'ємною чи рівною нулю!\")\n",
    "          \n",
    "\n"
   ]
  },
  {
   "cell_type": "markdown",
   "metadata": {},
   "source": [
    "#### Завдання 2"
   ]
  },
  {
   "cell_type": "markdown",
   "metadata": {},
   "source": [
    "Дано трицифрове число. Виведіть окремо кожну цифру числа та суми цифр число\n",
    "\n",
    "Реалізуйте завдання двома способами (використовуючи стрічки та оператори `%`, `//`)"
   ]
  },
  {
   "cell_type": "code",
   "execution_count": null,
   "metadata": {},
   "outputs": [],
   "source": [
    "N = str(input('Введіть тризначне число: '))\n",
    "\n",
    "print('Перше число: ', N[0])\n",
    "print('Друге число: ', N[1])\n",
    "print('Третє число: ', N[2])\n",
    "\n",
    "print('Сума трьох чисел: ', int(N[0]) + int(N[1]) + int(N[2]))\n"
   ]
  },
  {
   "cell_type": "code",
   "execution_count": null,
   "metadata": {},
   "outputs": [],
   "source": [
    "N = int(input('Введіть тризначне число: '))\n",
    "\n",
    "d1 = N // 100\n",
    "\n",
    "d2 = N // 10 % 10\n",
    "\n",
    "d3 = N % 10\n",
    "\n",
    "print('Перше число: ', d1)\n",
    "print('Друге число: ', d2)\n",
    "print('Третє число: ', d3)\n",
    "\n",
    "print('Сума трьох чисел: ', d1 + d2 + d3) \n",
    "\n",
    "# Мб для суми доцільно утворити окрему змінну, щоб потім можна було працювати з нею. "
   ]
  },
  {
   "cell_type": "markdown",
   "metadata": {},
   "source": [
    "#### Завдання 3"
   ]
  },
  {
   "cell_type": "markdown",
   "metadata": {},
   "source": [
    "Дано речення (стрічка). \n",
    "* Розбийте речення по словах і помістіть їх у список. \n",
    "* Виведіть кількість слів у речені.\n",
    "* Утворіть нове речення, що складається з першого та останнього слова із початкового речення."
   ]
  },
  {
   "cell_type": "code",
   "execution_count": null,
   "metadata": {},
   "outputs": [],
   "source": [
    "sentence = 'My favourite tutor in academy is Ihor'\n",
    "\n",
    "list_words = sentence.split()\n",
    "\n",
    "print('Речення по словам, список: ', list_words)\n",
    "\n",
    "print('Кількість слів у реченні: ', len(list_words))\n",
    "\n",
    "print('Нове речення, що містить перше і останнє слово початкового: ', list_words[0], list_words[-1])\n",
    "\n",
    "# Напевно це не дуже вірний підхід. Аналогічно до попереднього.\n",
    "# Для нового речення доцільно утворити окрему змінну, щоб потім можна було працювати з нею."
   ]
  },
  {
   "cell_type": "markdown",
   "metadata": {},
   "source": [
    "#### Завдання 4"
   ]
  },
  {
   "cell_type": "markdown",
   "metadata": {},
   "source": [
    "Перевірте, чи справджується формула: $$ sin^2x + cos^2x = 1$$\n",
    "\n",
    "Напишіть код, що реалізує цю формулу. Нагадую, що тригонометричні функції приймають аргументи в радіанній мірі"
   ]
  },
  {
   "cell_type": "code",
   "execution_count": null,
   "metadata": {},
   "outputs": [],
   "source": [
    "import math as m\n",
    "\n",
    "x = int(input('Ведіть значення кута в градусах: '))\n",
    "\n",
    "x_rad = m.radians(x)\n",
    "\n",
    "if (m.sin(x_rad))**2 + (m.cos(x_rad))**2 == 1:\n",
    "    print('Формула вірна!')\n",
    "\n",
    "else:\n",
    "    print('Формула НЕ вірна!')"
   ]
  },
  {
   "cell_type": "markdown",
   "metadata": {},
   "source": [
    "#### Завдання 5"
   ]
  },
  {
   "cell_type": "markdown",
   "metadata": {},
   "source": [
    "Напишіть програму для обчислення коренів квадратного рівняння.\n",
    "\n",
    "Нагадую, що `n`-го степеня має `n` коренів. (Корені можуть бути комплексні)"
   ]
  },
  {
   "cell_type": "code",
   "execution_count": 17,
   "metadata": {},
   "outputs": [
    {
     "name": "stdout",
     "output_type": "stream",
     "text": [
      "Введіть коефіцієнт А = -1\n",
      "Введіть коефіцієнт B = -3\n",
      "Введіть коефіцієнт С = -5\n",
      "Дискримінант =  -11\n",
      "Корені: x1 = (-1.5-1.6583123951777j), x2 = (-1.5+1.6583123951777j)\n"
     ]
    }
   ],
   "source": [
    "# Не зовсім зрозуміло умови задачі. Квадратне чи рівняння n-ступеня?\n",
    "# Тут вирішено квадратне, але з урахуванням що корені є завжди\n",
    "\n",
    "import cmath\n",
    "\n",
    "a = int(input('Введіть коефіцієнт А = '))\n",
    "b = int(input('Введіть коефіцієнт B = '))\n",
    "c = int(input('Введіть коефіцієнт С = '))\n",
    "\n",
    "D = b**2 - 4 * a * c\n",
    "\n",
    "print('Дискримінант = ', D)\n",
    " \n",
    "if D > 0:\n",
    "    x1 = (-b + math.sqrt(D)) / (2*a)\n",
    "    x2 = (-b - math.sqrt(D)) / (2*a)\n",
    "    print(f'Корені: x1 = {round(x1, 1)}, x2 = {round(x2, 1)}')\n",
    "\n",
    "elif D < 0:\n",
    "    x1 = (-b + cmath.sqrt(D)) / (2*a)\n",
    "    x2 = (-b - cmath.sqrt(D)) / (2*a)\n",
    "    print(f'Корені: x1 = {x1}, x2 = {x2}')\n",
    "    \n",
    "else:\n",
    "    x = -b / (2*a)\n",
    "    print(f'Корінь: x = {round(x, 1)}')\n"
   ]
  },
  {
   "cell_type": "markdown",
   "metadata": {},
   "source": [
    "#### Завдання 6"
   ]
  },
  {
   "cell_type": "markdown",
   "metadata": {},
   "source": [
    "Напишіть програму, що виводить речення: <i>\"Діаметр планети `Planet` дорівнює` Diament`\"</i>, \n",
    "\n",
    "де `Planet` та `Diament` вводить користувач"
   ]
  },
  {
   "cell_type": "code",
   "execution_count": 20,
   "metadata": {},
   "outputs": [
    {
     "name": "stdout",
     "output_type": "stream",
     "text": [
      "Введіть назву планети: Марс\n",
      "Введіть діаметр планети: 20 тис км\n",
      "Діаметр пленти Марс дорівнює 20 тис км\n"
     ]
    }
   ],
   "source": [
    "Planet = input('Введіть назву планети: ')\n",
    "Diament = input('Введіть діаметр планети: ')\n",
    "\n",
    "print(f'Діаметр пленти {Planet} дорівнює {Diament}')"
   ]
  }
 ],
 "metadata": {
  "kernelspec": {
   "display_name": "Python 3",
   "language": "python",
   "name": "python3"
  },
  "language_info": {
   "codemirror_mode": {
    "name": "ipython",
    "version": 3
   },
   "file_extension": ".py",
   "mimetype": "text/x-python",
   "name": "python",
   "nbconvert_exporter": "python",
   "pygments_lexer": "ipython3",
   "version": "3.8.8"
  }
 },
 "nbformat": 4,
 "nbformat_minor": 2
}
