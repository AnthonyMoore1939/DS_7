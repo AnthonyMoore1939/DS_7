{
 "cells": [
  {
   "cell_type": "markdown",
   "id": "770e842f",
   "metadata": {},
   "source": [
    "# 1.Markdown ceels\n",
    "\n",
    "* Hi! Its Main Academy?\n",
    "* All HTML tabs are supported!\n",
    "* Моя сторінка [Лінкедін](www.linkedin.com)\n",
    "\n",
    "  \n",
    "    \n",
    "    \n",
    "    \n",
    "  \n",
    "# This is Heading1\n",
    "\n",
    "## This is Heading2\n",
    "\n",
    "<font color='gray'>some gray colored text:</font> \n",
    "\n",
    "> This is where we can bring qoutes and present them nicely\n",
    "\n",
    "And this is the paragraf about something very important. Even math:\n",
    "\n",
    "$$y_{sub}=\\sqrt{x_{sub}}$$\n",
    "\n",
    "\n",
    "Or python code example:\n",
    "\n",
    "`\n",
    "import math\n",
    "def foo():\n",
    "   return \"foo\"`"
   ]
  },
  {
   "cell_type": "markdown",
   "id": "61927fac",
   "metadata": {},
   "source": [
    "### Завдання 4 (необов'язкове)\n",
    "\n",
    "В рамках виконання попереднього завдання було вивчено деякі аспекти базового синтаксису LaTeX.\n",
    "\n",
    "Для виконаня цього завдання використано редактор LaTeX формул,   \n",
    "оскільки **ігнорувати наявний інструментарій** (напр. [такий](https://www.codecogs.com/latex/eqneditor.php?lang=uk-uk), або [такий](http://primat.org/mathred/mathred.html)) - **гріх ;)**  \n",
    "\n",
    "\n",
    "\n",
    "$$\\overline{y}=\\frac{1}{n}\\sum_{i=1}^{n}y_{i}$$\n",
    "\n",
    "\n",
    "Інші формули - аналогічно)\n",
    "\n"
   ]
  },
  {
   "cell_type": "code",
   "execution_count": null,
   "id": "1463bc4a",
   "metadata": {},
   "outputs": [],
   "source": []
  }
 ],
 "metadata": {
  "kernelspec": {
   "display_name": "Python 3",
   "language": "python",
   "name": "python3"
  },
  "language_info": {
   "codemirror_mode": {
    "name": "ipython",
    "version": 3
   },
   "file_extension": ".py",
   "mimetype": "text/x-python",
   "name": "python",
   "nbconvert_exporter": "python",
   "pygments_lexer": "ipython3",
   "version": "3.8.8"
  }
 },
 "nbformat": 4,
 "nbformat_minor": 5
}
