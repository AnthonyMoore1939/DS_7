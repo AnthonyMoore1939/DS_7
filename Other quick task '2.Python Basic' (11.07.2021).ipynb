{
 "cells": [
  {
   "cell_type": "markdown",
   "id": "0edb0cc3",
   "metadata": {},
   "source": [
    "#### По двом введеним катетам занйти довжину гіпотенузи"
   ]
  },
  {
   "cell_type": "markdown",
   "id": "6a24506a",
   "metadata": {},
   "source": [
    "Просте рішення:"
   ]
  },
  {
   "cell_type": "code",
   "execution_count": null,
   "id": "6582554a",
   "metadata": {},
   "outputs": [],
   "source": [
    "import math as m\n",
    "\n",
    "side1 = int(input('Введіть довжину першого катету: '))\n",
    "side2 = int(input('Введіть довжину другого катету: '))\n",
    "\n",
    "c = m.sqrt(side1**2+side2**2)\n",
    "\n",
    "print('Довжина гіпотенузи:', round(c, 1), 'cm')\n"
   ]
  },
  {
   "cell_type": "markdown",
   "id": "7cac3b10",
   "metadata": {},
   "source": [
    "Розширене:"
   ]
  },
  {
   "cell_type": "code",
   "execution_count": null,
   "id": "6a249524",
   "metadata": {},
   "outputs": [],
   "source": [
    "import math as m\n",
    "\n",
    "side1 = int(input('Введіть довжину першого катету: '))\n",
    "\n",
    "if side1 > 0:\n",
    "    side2 = int(input('Введіть довжину другого катету: '))\n",
    "    if side2 > 0:\n",
    "        c = m.sqrt(side1**2+side2**2)\n",
    "        print('Довжина гіпотенузи:', round(c, 1), 'cm')\n",
    "    \n",
    "    else:\n",
    "        print(\"Довжина не може бути від'ємною або нульовою\")\n",
    "    \n",
    "else:\n",
    "    print(\"Довжина не може бути від'ємною або нульовою\")\n",
    "\n",
    "\n"
   ]
  },
  {
   "cell_type": "markdown",
   "id": "b878df6d",
   "metadata": {},
   "source": [
    "#### Розрахувати сумарну випату по кредиту і місячні виплати"
   ]
  },
  {
   "cell_type": "code",
   "execution_count": null,
   "id": "cd735a90",
   "metadata": {},
   "outputs": [],
   "source": [
    "#якщо кожного наступного року нараховувати відсоток на базу кредиту з урахуванням попередніх відсотків\n",
    "\n",
    "loan_size = int(input('Розмір кредиту, грн: '))\n",
    "loan_years = int(input('На скільки років береться кредит: '))\n",
    "loan_interest = float(input('Річна відсоткова ставка, %: '))\n",
    "i = 1\n",
    "\n",
    "while i <= loan_years:\n",
    "    loan_size = loan_size + (loan_size*loan_interest)/100\n",
    "    i += 1\n",
    "\n",
    "print(f'Сумарна виплата по кредиту = {round(loan_size, 1)} грн.')\n",
    "\n",
    "month_loan = (loan_size/loan_years)/12\n",
    "\n",
    "print(f'Місячна виплата по кредиту = {round(month_loan, 1)} грн.')"
   ]
  },
  {
   "cell_type": "code",
   "execution_count": null,
   "id": "b71d6795",
   "metadata": {},
   "outputs": [],
   "source": [
    "#якщо рахуємо відсотки на фіксовану базу кредиту\n",
    "\n",
    "loan_size = int(input('Розмір кредиту, грн: '))\n",
    "loan_years = int(input('На скільки років береться кредит: '))\n",
    "loan_interest = float(input('Річна відсоткова ставка, %: '))\n",
    "\n",
    "sum_loan = loan_size + ((loan_size*loan_interest)/100)*loan_years\n",
    "\n",
    "print(f'Сумарна виплата по кредиту = {round(sum_loan, 1)} грн.')\n",
    "\n",
    "month_loan = (sum_loan/loan_years)/12\n",
    "\n",
    "print(f'Місячна виплата по кредиту = {round(month_loan, 1)} грн.')"
   ]
  },
  {
   "cell_type": "markdown",
   "id": "5ad780dd",
   "metadata": {},
   "source": [
    "#### Користувач вводить дві букви. На яких місцях вони алфавіту вони стоять, і скільки між ними знаходиться букв"
   ]
  },
  {
   "cell_type": "code",
   "execution_count": null,
   "id": "127f2ff7",
   "metadata": {},
   "outputs": [],
   "source": [
    "#вирішення знайшов в інтернеті, осмислив, трохи переробив, зрозумів\n",
    "\n",
    "x1 = ord(input('Введіть першу букву (англійську, маленьку): '))\n",
    "x2 = ord(input('Введіть другу букву (англійську, маленьку): '))\n",
    "\n",
    "x1 = x1 - ord('a') + 1\n",
    "x2 = x2 - ord('a') + 1\n",
    "\n",
    "print(f'Позиції {x1} та {x2}')\n",
    "print('Символів між буквами: ', abs(x1-x2)-1 )"
   ]
  }
 ],
 "metadata": {
  "kernelspec": {
   "display_name": "Python 3",
   "language": "python",
   "name": "python3"
  },
  "language_info": {
   "codemirror_mode": {
    "name": "ipython",
    "version": 3
   },
   "file_extension": ".py",
   "mimetype": "text/x-python",
   "name": "python",
   "nbconvert_exporter": "python",
   "pygments_lexer": "ipython3",
   "version": "3.8.8"
  }
 },
 "nbformat": 4,
 "nbformat_minor": 5
}
